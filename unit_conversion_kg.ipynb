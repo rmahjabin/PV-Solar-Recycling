{
  "nbformat": 4,
  "nbformat_minor": 0,
  "metadata": {
    "colab": {
      "provenance": []
    },
    "kernelspec": {
      "name": "python3",
      "display_name": "Python 3"
    },
    "language_info": {
      "name": "python"
    }
  },
  "cells": [
    {
      "cell_type": "markdown",
      "source": [
        "This code reproduces Figure 2 in ITRPV-2020, which is the price trend for mono-Si modules between January, 2014 and January, 2020. This code generates a file based on the year specified (20 means 2020) and generates a file with the data for Table S1 for download that can be used with the pvmontecarlo file.  "
      ],
      "metadata": {
        "id": "mRnTpLwi_aNY"
      }
    },
    {
      "cell_type": "markdown",
      "source": [
        "Read in libraries"
      ],
      "metadata": {
        "id": "hb5Ln3BK_PRI"
      }
    },
    {
      "cell_type": "code",
      "source": [
        "import numpy as np\n",
        "import pandas as pd\n",
        "import matplotlib.pyplot as plt\n",
        "import matplotlib.ticker as ticker\n",
        "import seaborn as sns\n",
        "import os\n",
        "from google.colab import files\n",
        "\n",
        "import importlib.util\n",
        "\n",
        "from matplotlib.colors import TwoSlopeNorm\n",
        "\n",
        "repo_name = \"PV-Solar-Recycling\"\n",
        "repo_url = \"https://github.com/rmahjabin/PV-Solar-Recycling.git\"\n",
        "\n",
        "if os.path.basename(os.getcwd()) == repo_name:\n",
        "  os.chdir(\"/content\")\n",
        "\n",
        "if os.path.exists(repo_name):\n",
        "  !rm -rf {repo_name}\n",
        "\n",
        "!git clone {repo_url}\n",
        "os.chdir(repo_name)\n",
        "\n",
        "from unit_conversion import convert_dataframe_units\n",
        "from unit_conversion import build_conversion_matrix"
      ],
      "metadata": {
        "id": "-eOm6jQ8_K12",
        "colab": {
          "base_uri": "https://localhost:8080/"
        },
        "outputId": "389dfbf8-64c6-4d38-cebb-b0e35554c2b8"
      },
      "execution_count": 49,
      "outputs": [
        {
          "output_type": "stream",
          "name": "stdout",
          "text": [
            "Cloning into 'PV-Solar-Recycling'...\n",
            "remote: Enumerating objects: 45, done.\u001b[K\n",
            "remote: Counting objects: 100% (45/45), done.\u001b[K\n",
            "remote: Compressing objects: 100% (45/45), done.\u001b[K\n",
            "remote: Total 45 (delta 17), reused 0 (delta 0), pack-reused 0 (from 0)\u001b[K\n",
            "Receiving objects: 100% (45/45), 2.79 MiB | 12.30 MiB/s, done.\n",
            "Resolving deltas: 100% (17/17), done.\n"
          ]
        }
      ]
    },
    {
      "cell_type": "markdown",
      "source": [
        "Read in the .csv file"
      ],
      "metadata": {
        "id": "_4Po5YE4_Vc3"
      }
    },
    {
      "cell_type": "code",
      "source": [
        "def convert_usd_per_watt_to_kg(usd_per_watt, conversion_matrix):\n",
        "    watts_per_kg = conversion_matrix.at['kg', 'Wp']\n",
        "    usd_per_kg = usd_per_watts * watts_per_kg\n",
        "    return usd_per_kg"
      ],
      "metadata": {
        "id": "Jcpk6MHiktvF"
      },
      "execution_count": 50,
      "outputs": []
    },
    {
      "cell_type": "code",
      "source": [
        "\n",
        "year = 2020\n",
        "conversion_matrix = build_conversion_matrix(year)\n",
        "usd_per_watts = 0.274\n",
        "\n",
        "usd_per_kg = convert_usd_per_watt_to_kg(usd_per_watt, conversion_matrix)\n",
        "print(f\"USD per kg = {usd_per_kg:.4f}\")"
      ],
      "metadata": {
        "colab": {
          "base_uri": "https://localhost:8080/"
        },
        "id": "XKlYo7mSliER",
        "outputId": "a3723186-c6b3-4dc1-df42-5629f745cc06"
      },
      "execution_count": 51,
      "outputs": [
        {
          "output_type": "stream",
          "name": "stdout",
          "text": [
            "USD per kg = 0.0008\n"
          ]
        }
      ]
    },
    {
      "cell_type": "code",
      "source": [],
      "metadata": {
        "id": "gArmXs6UTWaR"
      },
      "execution_count": null,
      "outputs": []
    }
  ]
}